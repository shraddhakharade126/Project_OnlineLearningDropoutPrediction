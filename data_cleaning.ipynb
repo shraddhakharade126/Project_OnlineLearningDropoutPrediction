{
 "cells": [
  {
   "cell_type": "code",
   "execution_count": 1,
   "id": "a5cff1e6-2193-4fd9-b9c9-c4475f319d87",
   "metadata": {},
   "outputs": [],
   "source": [
    "# import liabraies\n",
    "\n",
    "import pandas as pd\n",
    "import numpy as np\n",
    "import warnings\n",
    "warnings.filterwarnings('ignore')\n"
   ]
  },
  {
   "cell_type": "code",
   "execution_count": 2,
   "id": "84d2318f-8202-47fe-98cf-0a7d1a69ab77",
   "metadata": {},
   "outputs": [
    {
     "data": {
      "text/html": [
       "<div>\n",
       "<style scoped>\n",
       "    .dataframe tbody tr th:only-of-type {\n",
       "        vertical-align: middle;\n",
       "    }\n",
       "\n",
       "    .dataframe tbody tr th {\n",
       "        vertical-align: top;\n",
       "    }\n",
       "\n",
       "    .dataframe thead th {\n",
       "        text-align: right;\n",
       "    }\n",
       "</style>\n",
       "<table border=\"1\" class=\"dataframe\">\n",
       "  <thead>\n",
       "    <tr style=\"text-align: right;\">\n",
       "      <th></th>\n",
       "      <th>login_frequency_per_week</th>\n",
       "      <th>forum_posts_per_week</th>\n",
       "      <th>assignment_completion_rate</th>\n",
       "      <th>video_watch_percentage</th>\n",
       "      <th>average_quiz_score</th>\n",
       "      <th>forum_sentiment_score</th>\n",
       "      <th>dropout</th>\n",
       "    </tr>\n",
       "  </thead>\n",
       "  <tbody>\n",
       "    <tr>\n",
       "      <th>0</th>\n",
       "      <td>11</td>\n",
       "      <td>5</td>\n",
       "      <td>0.54</td>\n",
       "      <td>62.4</td>\n",
       "      <td>73.3</td>\n",
       "      <td>0.25</td>\n",
       "      <td>1</td>\n",
       "    </tr>\n",
       "    <tr>\n",
       "      <th>1</th>\n",
       "      <td>1</td>\n",
       "      <td>8</td>\n",
       "      <td>0.79</td>\n",
       "      <td>28.4</td>\n",
       "      <td>76.6</td>\n",
       "      <td>0.41</td>\n",
       "      <td>1</td>\n",
       "    </tr>\n",
       "    <tr>\n",
       "      <th>2</th>\n",
       "      <td>12</td>\n",
       "      <td>0</td>\n",
       "      <td>0.55</td>\n",
       "      <td>56.8</td>\n",
       "      <td>65.0</td>\n",
       "      <td>0.28</td>\n",
       "      <td>1</td>\n",
       "    </tr>\n",
       "    <tr>\n",
       "      <th>3</th>\n",
       "      <td>7</td>\n",
       "      <td>5</td>\n",
       "      <td>0.61</td>\n",
       "      <td>16.7</td>\n",
       "      <td>75.1</td>\n",
       "      <td>0.14</td>\n",
       "      <td>1</td>\n",
       "    </tr>\n",
       "    <tr>\n",
       "      <th>4</th>\n",
       "      <td>1</td>\n",
       "      <td>8</td>\n",
       "      <td>0.23</td>\n",
       "      <td>64.5</td>\n",
       "      <td>31.6</td>\n",
       "      <td>0.73</td>\n",
       "      <td>0</td>\n",
       "    </tr>\n",
       "    <tr>\n",
       "      <th>...</th>\n",
       "      <td>...</td>\n",
       "      <td>...</td>\n",
       "      <td>...</td>\n",
       "      <td>...</td>\n",
       "      <td>...</td>\n",
       "      <td>...</td>\n",
       "      <td>...</td>\n",
       "    </tr>\n",
       "    <tr>\n",
       "      <th>995</th>\n",
       "      <td>7</td>\n",
       "      <td>0</td>\n",
       "      <td>0.10</td>\n",
       "      <td>67.4</td>\n",
       "      <td>80.5</td>\n",
       "      <td>0.04</td>\n",
       "      <td>0</td>\n",
       "    </tr>\n",
       "    <tr>\n",
       "      <th>996</th>\n",
       "      <td>4</td>\n",
       "      <td>0</td>\n",
       "      <td>0.55</td>\n",
       "      <td>98.7</td>\n",
       "      <td>42.9</td>\n",
       "      <td>0.29</td>\n",
       "      <td>0</td>\n",
       "    </tr>\n",
       "    <tr>\n",
       "      <th>997</th>\n",
       "      <td>1</td>\n",
       "      <td>7</td>\n",
       "      <td>0.98</td>\n",
       "      <td>79.1</td>\n",
       "      <td>53.0</td>\n",
       "      <td>0.45</td>\n",
       "      <td>1</td>\n",
       "    </tr>\n",
       "    <tr>\n",
       "      <th>998</th>\n",
       "      <td>13</td>\n",
       "      <td>1</td>\n",
       "      <td>0.56</td>\n",
       "      <td>49.1</td>\n",
       "      <td>64.1</td>\n",
       "      <td>0.12</td>\n",
       "      <td>0</td>\n",
       "    </tr>\n",
       "    <tr>\n",
       "      <th>999</th>\n",
       "      <td>1</td>\n",
       "      <td>9</td>\n",
       "      <td>0.19</td>\n",
       "      <td>50.2</td>\n",
       "      <td>31.7</td>\n",
       "      <td>0.45</td>\n",
       "      <td>0</td>\n",
       "    </tr>\n",
       "  </tbody>\n",
       "</table>\n",
       "<p>1000 rows × 7 columns</p>\n",
       "</div>"
      ],
      "text/plain": [
       "     login_frequency_per_week  forum_posts_per_week  \\\n",
       "0                          11                     5   \n",
       "1                           1                     8   \n",
       "2                          12                     0   \n",
       "3                           7                     5   \n",
       "4                           1                     8   \n",
       "..                        ...                   ...   \n",
       "995                         7                     0   \n",
       "996                         4                     0   \n",
       "997                         1                     7   \n",
       "998                        13                     1   \n",
       "999                         1                     9   \n",
       "\n",
       "     assignment_completion_rate  video_watch_percentage  average_quiz_score  \\\n",
       "0                          0.54                    62.4                73.3   \n",
       "1                          0.79                    28.4                76.6   \n",
       "2                          0.55                    56.8                65.0   \n",
       "3                          0.61                    16.7                75.1   \n",
       "4                          0.23                    64.5                31.6   \n",
       "..                          ...                     ...                 ...   \n",
       "995                        0.10                    67.4                80.5   \n",
       "996                        0.55                    98.7                42.9   \n",
       "997                        0.98                    79.1                53.0   \n",
       "998                        0.56                    49.1                64.1   \n",
       "999                        0.19                    50.2                31.7   \n",
       "\n",
       "     forum_sentiment_score  dropout  \n",
       "0                     0.25        1  \n",
       "1                     0.41        1  \n",
       "2                     0.28        1  \n",
       "3                     0.14        1  \n",
       "4                     0.73        0  \n",
       "..                     ...      ...  \n",
       "995                   0.04        0  \n",
       "996                   0.29        0  \n",
       "997                   0.45        1  \n",
       "998                   0.12        0  \n",
       "999                   0.45        0  \n",
       "\n",
       "[1000 rows x 7 columns]"
      ]
     },
     "execution_count": 2,
     "metadata": {},
     "output_type": "execute_result"
    }
   ],
   "source": [
    "# import dataset\n",
    "\n",
    "ds= pd.read_csv(\"dataset_online.csv\")\n",
    "ds"
   ]
  },
  {
   "cell_type": "code",
   "execution_count": 3,
   "id": "ef8a0eb9-f7cb-45d8-a63a-6ba8a7460898",
   "metadata": {},
   "outputs": [
    {
     "name": "stdout",
     "output_type": "stream",
     "text": [
      "<class 'pandas.core.frame.DataFrame'>\n",
      "RangeIndex: 1000 entries, 0 to 999\n",
      "Data columns (total 7 columns):\n",
      " #   Column                      Non-Null Count  Dtype  \n",
      "---  ------                      --------------  -----  \n",
      " 0   login_frequency_per_week    1000 non-null   int64  \n",
      " 1   forum_posts_per_week        1000 non-null   int64  \n",
      " 2   assignment_completion_rate  1000 non-null   float64\n",
      " 3   video_watch_percentage      1000 non-null   float64\n",
      " 4   average_quiz_score          1000 non-null   float64\n",
      " 5   forum_sentiment_score       1000 non-null   float64\n",
      " 6   dropout                     1000 non-null   int64  \n",
      "dtypes: float64(4), int64(3)\n",
      "memory usage: 54.8 KB\n"
     ]
    }
   ],
   "source": [
    "ds.info()"
   ]
  },
  {
   "cell_type": "code",
   "execution_count": 5,
   "id": "6ee73811-7a09-4f6e-8aab-5751ca236344",
   "metadata": {},
   "outputs": [
    {
     "data": {
      "text/plain": [
       "login_frequency_per_week      0\n",
       "forum_posts_per_week          0\n",
       "assignment_completion_rate    0\n",
       "video_watch_percentage        0\n",
       "average_quiz_score            0\n",
       "forum_sentiment_score         0\n",
       "dropout                       0\n",
       "dtype: int64"
      ]
     },
     "execution_count": 5,
     "metadata": {},
     "output_type": "execute_result"
    }
   ],
   "source": [
    "ds.isnull().sum()"
   ]
  },
  {
   "cell_type": "code",
   "execution_count": 6,
   "id": "9f70828a-760e-4003-97f0-b785085d1db6",
   "metadata": {},
   "outputs": [
    {
     "data": {
      "text/plain": [
       "0"
      ]
     },
     "execution_count": 6,
     "metadata": {},
     "output_type": "execute_result"
    }
   ],
   "source": [
    "ds.duplicated().sum()"
   ]
  },
  {
   "cell_type": "code",
   "execution_count": 9,
   "id": "43752beb-ace6-4e8f-8cef-1a9038f2078d",
   "metadata": {},
   "outputs": [
    {
     "data": {
      "text/plain": [
       "Index(['login_frequency_per_week', 'forum_posts_per_week',\n",
       "       'assignment_completion_rate', 'video_watch_percentage',\n",
       "       'average_quiz_score', 'forum_sentiment_score', 'dropout'],\n",
       "      dtype='object')"
      ]
     },
     "execution_count": 9,
     "metadata": {},
     "output_type": "execute_result"
    }
   ],
   "source": [
    "ds.columns\n"
   ]
  },
  {
   "cell_type": "code",
   "execution_count": 11,
   "id": "4cff75d2-2776-47f0-911e-69def252b72d",
   "metadata": {},
   "outputs": [
    {
     "name": "stdout",
     "output_type": "stream",
     "text": [
      "login_frequency_per_week        int64\n",
      "forum_posts_per_week            int64\n",
      "assignment_completion_rate    float64\n",
      "video_watch_percentage        float64\n",
      "average_quiz_score            float64\n",
      "forum_sentiment_score         float64\n",
      "dropout                         int64\n",
      "dtype: object\n"
     ]
    }
   ],
   "source": [
    "print(ds.dtypes)"
   ]
  },
  {
   "cell_type": "code",
   "execution_count": 13,
   "id": "6329ae01-5913-4d55-8e88-1845bd586926",
   "metadata": {},
   "outputs": [],
   "source": [
    "ds.to_csv(\"newdataset.csv\")"
   ]
  },
  {
   "cell_type": "code",
   "execution_count": null,
   "id": "652cf9de-3520-4156-955b-eb265e747ef2",
   "metadata": {},
   "outputs": [],
   "source": []
  }
 ],
 "metadata": {
  "kernelspec": {
   "display_name": "Python 3 (ipykernel)",
   "language": "python",
   "name": "python3"
  },
  "language_info": {
   "codemirror_mode": {
    "name": "ipython",
    "version": 3
   },
   "file_extension": ".py",
   "mimetype": "text/x-python",
   "name": "python",
   "nbconvert_exporter": "python",
   "pygments_lexer": "ipython3",
   "version": "3.12.7"
  }
 },
 "nbformat": 4,
 "nbformat_minor": 5
}
